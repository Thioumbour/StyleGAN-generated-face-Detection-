{
  "metadata": {
    "kernelspec": {
      "language": "python",
      "display_name": "Python 3",
      "name": "python3"
    },
    "language_info": {
      "name": "python",
      "version": "3.10.12",
      "mimetype": "text/x-python",
      "codemirror_mode": {
        "name": "ipython",
        "version": 3
      },
      "pygments_lexer": "ipython3",
      "nbconvert_exporter": "python",
      "file_extension": ".py"
    },
    "kaggle": {
      "accelerator": "nvidiaTeslaT4",
      "dataSources": [
        {
          "sourceId": 939937,
          "sourceType": "datasetVersion",
          "datasetId": 501529
        },
        {
          "sourceId": 10102015,
          "sourceType": "datasetVersion",
          "datasetId": 6230878
        },
        {
          "sourceId": 10119502,
          "sourceType": "datasetVersion",
          "datasetId": 6243942
        },
        {
          "sourceId": 10124102,
          "sourceType": "datasetVersion",
          "datasetId": 6247412
        }
      ],
      "dockerImageVersionId": 30840,
      "isInternetEnabled": true,
      "language": "python",
      "sourceType": "notebook",
      "isGpuEnabled": true
    },
    "colab": {
      "name": "finetuningvit",
      "provenance": []
    }
  },
  "nbformat_minor": 0,
  "nbformat": 4,
  "cells": [
    {
      "source": [
        "# IMPORTANT: SOME KAGGLE DATA SOURCES ARE PRIVATE\n",
        "# RUN THIS CELL IN ORDER TO IMPORT YOUR KAGGLE DATA SOURCES.\n",
        "import kagglehub\n",
        "kagglehub.login()\n"
      ],
      "metadata": {
        "id": "fe2608bd7Xfc"
      },
      "cell_type": "code",
      "outputs": [],
      "execution_count": null
    },
    {
      "source": [
        "# IMPORTANT: RUN THIS CELL IN ORDER TO IMPORT YOUR KAGGLE DATA SOURCES,\n",
        "# THEN FEEL FREE TO DELETE THIS CELL.\n",
        "# NOTE: THIS NOTEBOOK ENVIRONMENT DIFFERS FROM KAGGLE'S PYTHON\n",
        "# ENVIRONMENT SO THERE MAY BE MISSING LIBRARIES USED BY YOUR\n",
        "# NOTEBOOK.\n",
        "\n",
        "xhlulu_140k_real_and_fake_faces_path = kagglehub.dataset_download('xhlulu/140k-real-and-fake-faces')\n",
        "sokhnaballytour_test_progan_path = kagglehub.dataset_download('sokhnaballytour/test-progan')\n",
        "sokhnaballytour_val_dataset_path = kagglehub.dataset_download('sokhnaballytour/val-dataset')\n",
        "sokhnaballytour_train_dataset_path = kagglehub.dataset_download('sokhnaballytour/train-dataset')\n",
        "\n",
        "print('Data source import complete.')\n"
      ],
      "metadata": {
        "id": "vzJ1q2iy7Xfe"
      },
      "cell_type": "code",
      "outputs": [],
      "execution_count": null
    },
    {
      "cell_type": "code",
      "source": [
        "from datasets import load_dataset\n",
        "from torchvision.transforms import Compose, Resize, ToTensor, Normalize\n",
        "from PIL import Image\n",
        "from transformers import ViTForImageClassification, ViTFeatureExtractor\n",
        "from torch.utils.data import DataLoader\n",
        "import torch\n",
        "from torch.optim import AdamW\n",
        "from torch.nn import CrossEntropyLoss\n",
        "from tqdm import tqdm\n",
        "from torchvision.datasets import ImageFolder"
      ],
      "metadata": {
        "trusted": true,
        "execution": {
          "iopub.status.busy": "2025-02-17T11:56:58.801393Z",
          "iopub.execute_input": "2025-02-17T11:56:58.801641Z",
          "iopub.status.idle": "2025-02-17T11:57:21.496883Z",
          "shell.execute_reply.started": "2025-02-17T11:56:58.801619Z",
          "shell.execute_reply": "2025-02-17T11:57:21.495865Z"
        },
        "id": "RzUVUDHP7Xff"
      },
      "outputs": [],
      "execution_count": null
    },
    {
      "cell_type": "code",
      "source": [
        "# Définir les transformations pour les images\n",
        "transform = Compose([\n",
        "    Resize((224, 224)),  # Redimensionner les images à la taille attendue par ViT\n",
        "    ToTensor(),  # Convertir en tenseur\n",
        "    Normalize(mean=[0.5, 0.5, 0.5], std=[0.5, 0.5, 0.5])  # Normaliser\n",
        "])\n",
        "\n",
        "# Charger les datasets\n",
        "train_dataset = ImageFolder(root=\"/kaggle/input/train-dataset/train_dataset\", transform=transform)\n",
        "valid_dataset = ImageFolder(root=\"/kaggle/input/val-dataset/val_dataset\", transform=transform)\n",
        "test_dataset = ImageFolder(root=\"/kaggle/input/test-progan/progan/person\", transform=transform)\n",
        "\n",
        "# Créer les DataLoaders\n",
        "train_loader = DataLoader(train_dataset, batch_size=32, shuffle=True)\n",
        "valid_loader = DataLoader(valid_dataset, batch_size=32, shuffle=False)\n",
        "test_loader = DataLoader(test_dataset, batch_size=32, shuffle=False)"
      ],
      "metadata": {
        "trusted": true,
        "execution": {
          "iopub.status.busy": "2025-02-17T11:57:29.644543Z",
          "iopub.execute_input": "2025-02-17T11:57:29.644865Z",
          "iopub.status.idle": "2025-02-17T12:03:10.031009Z",
          "shell.execute_reply.started": "2025-02-17T11:57:29.64484Z",
          "shell.execute_reply": "2025-02-17T12:03:10.030153Z"
        },
        "id": "g4kirYiz7Xff"
      },
      "outputs": [],
      "execution_count": null
    },
    {
      "cell_type": "markdown",
      "source": [
        "# ViT Transfert Learning"
      ],
      "metadata": {
        "id": "irGJFii47Xfg"
      }
    },
    {
      "cell_type": "code",
      "source": [
        "# Charger le modèle ViT pré-entraîné\n",
        "model = ViTForImageClassification.from_pretrained(\n",
        "    \"google/vit-base-patch16-224\",\n",
        "    num_labels=2,  # 2 classes : fake et real\n",
        "    ignore_mismatched_sizes=True  # Ignorer les incompatibilités de taille\n",
        ")\n",
        "\n",
        "# Charger le feature extractor (pour le prétraitement des images)\n",
        "feature_extractor = ViTFeatureExtractor.from_pretrained(\"google/vit-base-patch16-224\")"
      ],
      "metadata": {
        "trusted": true,
        "execution": {
          "iopub.status.busy": "2025-02-28T22:10:47.665655Z",
          "iopub.execute_input": "2025-02-28T22:10:47.666332Z",
          "iopub.status.idle": "2025-02-28T22:10:52.058139Z",
          "shell.execute_reply.started": "2025-02-28T22:10:47.666288Z",
          "shell.execute_reply": "2025-02-28T22:10:52.057236Z"
        },
        "id": "to7NfXds7Xfh",
        "outputId": "2f8b701a-971c-4c10-e7fc-b29b51c7bbda",
        "colab": {
          "referenced_widgets": [
            "aad173f76de04adc8cfe92f1d3252836",
            "93aff734e3c643b7baea59564d585e59",
            "9aaee43bd7614e00bd8e95c94762590d"
          ]
        }
      },
      "outputs": [
        {
          "output_type": "display_data",
          "data": {
            "text/plain": "config.json:   0%|          | 0.00/69.7k [00:00<?, ?B/s]",
            "application/vnd.jupyter.widget-view+json": {
              "version_major": 2,
              "version_minor": 0,
              "model_id": "aad173f76de04adc8cfe92f1d3252836"
            }
          },
          "metadata": {}
        },
        {
          "output_type": "display_data",
          "data": {
            "text/plain": "model.safetensors:   0%|          | 0.00/346M [00:00<?, ?B/s]",
            "application/vnd.jupyter.widget-view+json": {
              "version_major": 2,
              "version_minor": 0,
              "model_id": "93aff734e3c643b7baea59564d585e59"
            }
          },
          "metadata": {}
        },
        {
          "name": "stderr",
          "text": "Some weights of ViTForImageClassification were not initialized from the model checkpoint at google/vit-base-patch16-224 and are newly initialized because the shapes did not match:\n- classifier.bias: found shape torch.Size([1000]) in the checkpoint and torch.Size([2]) in the model instantiated\n- classifier.weight: found shape torch.Size([1000, 768]) in the checkpoint and torch.Size([2, 768]) in the model instantiated\nYou should probably TRAIN this model on a down-stream task to be able to use it for predictions and inference.\n",
          "output_type": "stream"
        },
        {
          "output_type": "display_data",
          "data": {
            "text/plain": "preprocessor_config.json:   0%|          | 0.00/160 [00:00<?, ?B/s]",
            "application/vnd.jupyter.widget-view+json": {
              "version_major": 2,
              "version_minor": 0,
              "model_id": "9aaee43bd7614e00bd8e95c94762590d"
            }
          },
          "metadata": {}
        },
        {
          "name": "stderr",
          "text": "/usr/local/lib/python3.10/dist-packages/transformers/models/vit/feature_extraction_vit.py:28: FutureWarning: The class ViTFeatureExtractor is deprecated and will be removed in version 5 of Transformers. Please use ViTImageProcessor instead.\n  warnings.warn(\n",
          "output_type": "stream"
        }
      ],
      "execution_count": null
    },
    {
      "cell_type": "code",
      "source": [
        "import torch\n",
        "from torch.optim import AdamW\n",
        "from torch.nn import CrossEntropyLoss\n",
        "from tqdm import tqdm\n",
        "\n",
        "# Définir l'optimiseur et la fonction de perte\n",
        "optimizer = AdamW(model.parameters(), lr=5e-5)\n",
        "criterion = CrossEntropyLoss()\n",
        "\n",
        "# Déplacer le modèle sur le GPU si disponible\n",
        "device = torch.device(\"cuda\" if torch.cuda.is_available() else \"cpu\")\n",
        "model.to(device)\n",
        "\n",
        "# Boucle d'entraînement\n",
        "epochs = 3\n",
        "for epoch in range(epochs):\n",
        "    model.train()\n",
        "    running_loss = 0.0\n",
        "    for images, labels in tqdm(train_loader):  # Ici, batch est un tuple (images, labels)\n",
        "        # Déplacer les données sur le GPU\n",
        "        images, labels = images.to(device), labels.to(device)\n",
        "\n",
        "        # Forward pass\n",
        "        outputs = model(pixel_values=images, labels=labels)\n",
        "        loss = outputs.loss\n",
        "\n",
        "        # Backward pass\n",
        "        optimizer.zero_grad()\n",
        "        loss.backward()\n",
        "        optimizer.step()\n",
        "\n",
        "        running_loss += loss.item()\n",
        "\n",
        "    print(f\"Epoch {epoch+1}, Loss: {running_loss/len(train_loader)}\")"
      ],
      "metadata": {
        "trusted": true,
        "execution": {
          "iopub.status.busy": "2025-02-28T22:13:07.934121Z",
          "iopub.execute_input": "2025-02-28T22:13:07.934421Z",
          "iopub.status.idle": "2025-03-01T01:29:51.086276Z",
          "shell.execute_reply.started": "2025-02-28T22:13:07.934398Z",
          "shell.execute_reply": "2025-03-01T01:29:51.085497Z"
        },
        "id": "vPksPghY7Xfi",
        "outputId": "a1c9b848-7c56-4b43-9133-e046589ec8b8"
      },
      "outputs": [
        {
          "name": "stderr",
          "text": "100%|██████████| 3125/3125 [1:09:29<00:00,  1.33s/it]\n",
          "output_type": "stream"
        },
        {
          "name": "stdout",
          "text": "Epoch 1, Loss: 0.03446152218693285\n",
          "output_type": "stream"
        },
        {
          "name": "stderr",
          "text": "100%|██████████| 3125/3125 [1:04:53<00:00,  1.25s/it]\n",
          "output_type": "stream"
        },
        {
          "name": "stdout",
          "text": "Epoch 2, Loss: 0.0137041156893273\n",
          "output_type": "stream"
        },
        {
          "name": "stderr",
          "text": "100%|██████████| 3125/3125 [1:02:20<00:00,  1.20s/it]",
          "output_type": "stream"
        },
        {
          "name": "stdout",
          "text": "Epoch 3, Loss: 0.010491032321718666\n",
          "output_type": "stream"
        },
        {
          "name": "stderr",
          "text": "\n",
          "output_type": "stream"
        }
      ],
      "execution_count": null
    },
    {
      "cell_type": "code",
      "source": [
        "model.eval()\n",
        "correct = 0\n",
        "total = 0\n",
        "\n",
        "with torch.no_grad():\n",
        "    for images, labels in tqdm(valid_loader):  # Ici, batch est un tuple (images, labels)\n",
        "        images, labels = images.to(device), labels.to(device)\n",
        "\n",
        "        outputs = model(pixel_values=images)\n",
        "        _, predicted = torch.max(outputs.logits, 1)\n",
        "\n",
        "        total += labels.size(0)\n",
        "        correct += (predicted == labels).sum().item()\n",
        "\n",
        "print(f\"Validation Accuracy: {100 * correct / total}%\")"
      ],
      "metadata": {
        "trusted": true,
        "execution": {
          "iopub.status.busy": "2025-03-01T01:30:05.362171Z",
          "iopub.execute_input": "2025-03-01T01:30:05.362464Z",
          "iopub.status.idle": "2025-03-01T01:36:36.958685Z",
          "shell.execute_reply.started": "2025-03-01T01:30:05.362442Z",
          "shell.execute_reply": "2025-03-01T01:36:36.957979Z"
        },
        "id": "HF4J6CIk7Xfi",
        "outputId": "be0de43b-f753-43a2-9d9f-3a2d6c1521fe"
      },
      "outputs": [
        {
          "name": "stderr",
          "text": "100%|██████████| 625/625 [06:31<00:00,  1.60it/s]",
          "output_type": "stream"
        },
        {
          "name": "stdout",
          "text": "Validation Accuracy: 99.19%\n",
          "output_type": "stream"
        },
        {
          "name": "stderr",
          "text": "\n",
          "output_type": "stream"
        }
      ],
      "execution_count": null
    },
    {
      "cell_type": "code",
      "source": [
        "import torch\n",
        "import numpy as np\n",
        "from torchmetrics import CohenKappa\n",
        "from sklearn.metrics import (\n",
        "    accuracy_score,\n",
        "    roc_auc_score,\n",
        "    matthews_corrcoef,\n",
        "    f1_score,\n",
        "    confusion_matrix,\n",
        "    cohen_kappa_score,\n",
        "    log_loss,\n",
        "    recall_score,\n",
        "    precision_score,\n",
        ")\n",
        "device=torch.device(\"cuda\" if torch.cuda.is_available() else \"cpu\")\n",
        "# Mettre le modèle en mode évaluation\n",
        "model.eval()\n",
        "\n",
        "# Initialiser les listes pour stocker les prédictions et les étiquettes\n",
        "all_preds = []\n",
        "all_labels = []\n",
        "all_probs = []\n",
        "\n",
        "with torch.no_grad():\n",
        "    for images, labels in tqdm(test_loader):\n",
        "        # Déplacer les données sur le GPU\n",
        "        images, labels = images.to(device), labels.to(device)\n",
        "\n",
        "        # Obtenir les prédictions du modèle\n",
        "        outputs = model(images)  # Retourne directement les logits\n",
        "        probs = torch.softmax(outputs.logits, dim=1)\n",
        "  # Appliquer softmax directement sur les logits\n",
        "        _, preds = torch.max(probs, 1)\n",
        "\n",
        "        # Stocker les prédictions, les étiquettes et les probabilités\n",
        "        all_preds.extend(preds.cpu().numpy())\n",
        "        all_labels.extend(labels.cpu().numpy())\n",
        "        all_probs.extend(probs.cpu().numpy())\n",
        "\n",
        "# Convertir en arrays numpy et calculer les métriques\n",
        "all_preds = np.array(all_preds)\n",
        "all_labels = np.array(all_labels)\n",
        "all_probs = np.array(all_probs)\n",
        "\n",
        "# Calculer et afficher les métriques\n",
        "accuracy = accuracy_score(all_labels, all_preds)\n",
        "auc = roc_auc_score(all_labels, all_probs[:, 1])\n",
        "mcc = matthews_corrcoef(all_labels, all_preds)\n",
        "f1 = f1_score(all_labels, all_preds)\n",
        "kappa = cohen_kappa_score(all_labels, all_preds)\n",
        "logloss = log_loss(all_labels, all_probs)\n",
        "recall = recall_score(all_labels, all_preds)\n",
        "precision = precision_score(all_labels, all_preds)\n",
        "\n",
        "tn, fp, fn, tp = confusion_matrix(all_labels, all_preds).ravel()\n",
        "specificity = tn / (tn + fp)\n",
        "\n",
        "print(f\"Accuracy: {accuracy:.4f}\")\n",
        "print(f\"AUC: {auc:.4f}\")\n",
        "print(f\"MCC: {mcc:.4f}\")\n",
        "print(f\"F1-score: {f1:.4f}\")\n",
        "print(f\"Specificity: {specificity:.4f}\")\n",
        "print(f\"Cohen's Kappa: {kappa:.4f}\")\n",
        "print(f\"Log Loss: {logloss:.4f}\")\n",
        "print(f\"Recall: {recall:.4f}\")\n",
        "print(f\"Precision: {precision:.4f}\")"
      ],
      "metadata": {
        "trusted": true,
        "execution": {
          "iopub.status.busy": "2025-03-01T01:38:56.640495Z",
          "iopub.execute_input": "2025-03-01T01:38:56.640828Z",
          "iopub.status.idle": "2025-03-01T01:45:52.198093Z",
          "shell.execute_reply.started": "2025-03-01T01:38:56.640803Z",
          "shell.execute_reply": "2025-03-01T01:45:52.197304Z"
        },
        "id": "LahtlBf67Xfj",
        "outputId": "797a2fe3-925e-4192-d3b0-ab6a1d503915"
      },
      "outputs": [
        {
          "name": "stderr",
          "text": "100%|██████████| 625/625 [06:55<00:00,  1.50it/s]",
          "output_type": "stream"
        },
        {
          "name": "stdout",
          "text": "Accuracy: 0.9925\nAUC: 0.9999\nMCC: 0.9851\nF1-score: 0.9925\nSpecificity: 0.9862\nCohen's Kappa: 0.9850\nLog Loss: 0.0203\nRecall: 0.9988\nPrecision: 0.9864\n",
          "output_type": "stream"
        },
        {
          "name": "stderr",
          "text": "\n",
          "output_type": "stream"
        }
      ],
      "execution_count": null
    },
    {
      "cell_type": "code",
      "source": [
        "import torch\n",
        "import torch.nn as nn\n",
        "import torch.nn.functional as F\n",
        "from transformers import ViTForImageClassification, ViTFeatureExtractor\n",
        "from torch.optim import AdamW\n",
        "from torch.nn import CrossEntropyLoss\n",
        "from tqdm import tqdm\n",
        "from sklearn.metrics import accuracy_score, roc_auc_score, confusion_matrix\n",
        "import matplotlib.pyplot as plt\n",
        "import numpy as np\n",
        "from sklearn.metrics import roc_curve, auc\n",
        "import seaborn as sns\n",
        "from torchvision import transforms\n",
        "from torchvision.datasets import ImageFolder\n",
        "from torch.utils.data import DataLoader\n",
        "import torchvision.utils as vutils\n",
        "from torchvision.transforms import Compose, Resize, ToTensor, Normalize\n",
        "\n",
        "import math\n",
        "\n",
        "# Définir les transformations pour les images\n",
        "transform = Compose([\n",
        "    Resize((224, 224)),  # Redimensionner les images à la taille attendue par ViT\n",
        "    ToTensor(),  # Convertir en tenseur\n",
        "    Normalize(mean=[0.5, 0.5, 0.5], std=[0.5, 0.5, 0.5])  # Normaliser\n",
        "])\n",
        "\n",
        "# Charger les datasets\n",
        "train_dataset = ImageFolder(root=\"/kaggle/input/140k-real-and-fake-faces/real_vs_fake/real-vs-fake/train\", transform=transform)\n",
        "valid_dataset = ImageFolder(root=\"/kaggle/input/140k-real-and-fake-faces/real_vs_fake/real-vs-fake/valid\", transform=transform)\n",
        "test_dataset = ImageFolder(root=\"/kaggle/input/140k-real-and-fake-faces/real_vs_fake/real-vs-fake/test\", transform=transform)\n",
        "\n",
        "# Créer les DataLoaders\n",
        "train_loader = DataLoader(train_dataset, batch_size=32, shuffle=True)\n",
        "valid_loader = DataLoader(valid_dataset, batch_size=32, shuffle=False)\n",
        "test_loader = DataLoader(test_dataset, batch_size=32, shuffle=False)"
      ],
      "metadata": {
        "trusted": true,
        "execution": {
          "iopub.status.busy": "2025-02-28T22:06:47.489328Z",
          "iopub.execute_input": "2025-02-28T22:06:47.489616Z",
          "iopub.status.idle": "2025-02-28T22:09:57.336306Z",
          "shell.execute_reply.started": "2025-02-28T22:06:47.489594Z",
          "shell.execute_reply": "2025-02-28T22:09:57.335294Z"
        },
        "id": "C6Fq-WYU7Xfj"
      },
      "outputs": [],
      "execution_count": null
    },
    {
      "cell_type": "code",
      "source": [
        "class LatentAttention(nn.Module):\n",
        "    def __init__(self, dim, num_latents=128):\n",
        "        super().__init__()\n",
        "        self.dim = dim\n",
        "        self.L = num_latents\n",
        "\n",
        "        # Initialisation normalisée des paramètres\n",
        "        self.wq = nn.Parameter(torch.randn(num_latents, dim) / math.sqrt(dim))\n",
        "        self.wk = nn.Parameter(torch.randn(num_latents, dim) / math.sqrt(dim))\n",
        "        self.wv = nn.Linear(dim, dim)\n",
        "\n",
        "        # Convolution 1D au lieu de 2D\n",
        "        self.conv1d = nn.Conv1d(dim, dim, kernel_size=3, padding=1, groups=dim)\n",
        "\n",
        "    def forward(self, x):\n",
        "        batch_size, seq_len, _ = x.shape\n",
        "\n",
        "        # Calcul des projections avec mise à l'échelle\n",
        "        K = torch.einsum('ld,bsd->bls', self.wk, x)\n",
        "        V = self.wv(x)\n",
        "        Q = torch.einsum('ld,bsd->bls', self.wq, x)\n",
        "\n",
        "        # Normalisation des distributions de probabilité\n",
        "        p_l_t = F.softmax(Q / math.sqrt(self.dim), dim=1)\n",
        "        p_s_l = F.softmax(K / math.sqrt(self.dim), dim=1)\n",
        "\n",
        "        # Attention latente\n",
        "        attention = torch.einsum('bls,bls,bsd->bsd', p_l_t, p_s_l, V)\n",
        "\n",
        "        # Convolution 1D au lieu de 2D\n",
        "        attention = attention.permute(0, 2, 1)  # [B, D, S]\n",
        "        attention = self.conv1d(attention)\n",
        "        attention = attention.permute(0, 2, 1)  # [B, S, D]\n",
        "\n",
        "        return attention\n",
        "\n",
        "class CustomViTWithLatentAttention(nn.Module):\n",
        "    def __init__(self, num_classes=2, num_latents=128):\n",
        "        super().__init__()\n",
        "\n",
        "        # Charger le ViT pré-entraîné\n",
        "        self.vit = ViTForImageClassification.from_pretrained(\n",
        "            \"google/vit-base-patch16-224\",\n",
        "            num_labels=num_classes,\n",
        "            ignore_mismatched_sizes=True\n",
        "        )\n",
        "\n",
        "        # Geler les couches du ViT\n",
        "        for param in self.vit.vit.embeddings.parameters():\n",
        "            param.requires_grad = False\n",
        "        for param in self.vit.vit.encoder.layer[:8].parameters():\n",
        "            param.requires_grad = False\n",
        "\n",
        "        # Remplacer l'attention standard par Latent Attention\n",
        "        self.hidden_dim = 768\n",
        "        self.latent_attention = LatentAttention(self.hidden_dim, num_latents)\n",
        "\n",
        "        # Couche de classification\n",
        "        self.classifier = nn.Sequential(\n",
        "            nn.Linear(self.hidden_dim, self.hidden_dim // 2),\n",
        "            nn.LayerNorm(self.hidden_dim // 2),\n",
        "            nn.ReLU(),\n",
        "            nn.Dropout(0.1),\n",
        "            nn.Linear(self.hidden_dim // 2, num_classes)\n",
        "        )\n",
        "\n",
        "    def forward(self, pixel_values):\n",
        "        outputs = self.vit.vit(pixel_values)\n",
        "        hidden_states = outputs.last_hidden_state  # [B, T, D]\n",
        "\n",
        "        # Appliquer Latent Attention\n",
        "        attended = self.latent_attention(hidden_states)\n",
        "\n",
        "        # Classification\n",
        "        logits = self.classifier(attended.mean(dim=1))\n",
        "        return logits\n",
        "\n",
        "# Fonction d'entraînement\n",
        "\n",
        "def train_model(model, train_loader, valid_loader, epochs=10, device='cuda'):\n",
        "    model = model.to(device)\n",
        "    optimizer = AdamW(filter(lambda p: p.requires_grad, model.parameters()), lr=5e-5)\n",
        "    criterion = CrossEntropyLoss()\n",
        "\n",
        "    train_losses, valid_losses = [], []\n",
        "    train_accuracies, valid_accuracies = [], []\n",
        "\n",
        "    for epoch in range(epochs):\n",
        "        model.train()\n",
        "        running_loss, running_accuracy = 0.0, 0.0\n",
        "\n",
        "        for images, labels in tqdm(train_loader, desc=f\"Epoch {epoch+1}/{epochs}\"):\n",
        "            images = images.to(device)\n",
        "            labels = labels.to(device)\n",
        "\n",
        "            optimizer.zero_grad()\n",
        "            outputs = model(images)\n",
        "            loss = criterion(outputs, labels)\n",
        "\n",
        "            loss.backward()\n",
        "            optimizer.step()\n",
        "\n",
        "            running_loss += loss.item()\n",
        "            preds = torch.argmax(outputs, dim=1)\n",
        "            running_accuracy += accuracy_score(labels.cpu().numpy(), preds.cpu().numpy())\n",
        "\n",
        "        epoch_loss = running_loss / len(train_loader)\n",
        "        epoch_accuracy = running_accuracy / len(train_loader)\n",
        "        train_losses.append(epoch_loss)\n",
        "        train_accuracies.append(epoch_accuracy)\n",
        "\n",
        "        # Validation\n",
        "        model.eval()\n",
        "        valid_loss, valid_accuracy = 0.0, 0.0\n",
        "        all_labels, all_preds = [], []\n",
        "\n",
        "        with torch.no_grad():\n",
        "            for images, labels in valid_loader:\n",
        "                images = images.to(device)\n",
        "                labels = labels.to(device)\n",
        "\n",
        "                outputs = model(images)\n",
        "                loss = criterion(outputs, labels)\n",
        "\n",
        "                valid_loss += loss.item()\n",
        "                preds = torch.argmax(outputs, dim=1)\n",
        "                valid_accuracy += accuracy_score(labels.cpu().numpy(), preds.cpu().numpy())\n",
        "\n",
        "                all_labels.extend(labels.cpu().numpy())\n",
        "                all_preds.extend(preds.cpu().numpy())\n",
        "\n",
        "        valid_loss /= len(valid_loader)\n",
        "        valid_accuracy /= len(valid_loader)\n",
        "        valid_losses.append(valid_loss)\n",
        "        valid_accuracies.append(valid_accuracy)\n",
        "\n",
        "        # ROC-AUC\n",
        "        roc_auc = roc_auc_score(all_labels, all_preds)\n",
        "\n",
        "        print(f\"Epoch {epoch+1}/{epochs}, \"\n",
        "              f\"Train Loss: {epoch_loss:.4f}, Train Accuracy: {epoch_accuracy:.4f}, \"\n",
        "              f\"Valid Loss: {valid_loss:.4f}, Valid Accuracy: {valid_accuracy:.4f}, \"\n",
        "              f\"Valid ROC-AUC: {roc_auc:.4f}\")\n",
        "\n",
        "    return train_losses, valid_losses, train_accuracies, valid_accuracies, all_labels, all_preds\n",
        "\n",
        "# Initialisation\n",
        "model = CustomViTWithLatentAttention(num_classes=2)\n",
        "feature_extractor = ViTFeatureExtractor.from_pretrained(\"google/vit-base-patch16-224\")"
      ],
      "metadata": {
        "trusted": true,
        "execution": {
          "iopub.status.busy": "2025-02-17T19:15:05.171144Z",
          "iopub.execute_input": "2025-02-17T19:15:05.171629Z",
          "iopub.status.idle": "2025-02-17T19:15:08.446987Z",
          "shell.execute_reply.started": "2025-02-17T19:15:05.171596Z",
          "shell.execute_reply": "2025-02-17T19:15:08.446Z"
        },
        "id": "19dW3XVM7Xfj",
        "outputId": "17bd6c76-1ae5-45b6-ad09-9ac3a1ce274a",
        "colab": {
          "referenced_widgets": [
            "13dcb7ba30e84903b917580019f6ac4a",
            "693b3b5734054ec29145070015ce277a",
            "2c26785891bd4c7bbe2ef2cad7cce070"
          ]
        }
      },
      "outputs": [
        {
          "output_type": "display_data",
          "data": {
            "text/plain": "config.json:   0%|          | 0.00/69.7k [00:00<?, ?B/s]",
            "application/vnd.jupyter.widget-view+json": {
              "version_major": 2,
              "version_minor": 0,
              "model_id": "13dcb7ba30e84903b917580019f6ac4a"
            }
          },
          "metadata": {}
        },
        {
          "output_type": "display_data",
          "data": {
            "text/plain": "model.safetensors:   0%|          | 0.00/346M [00:00<?, ?B/s]",
            "application/vnd.jupyter.widget-view+json": {
              "version_major": 2,
              "version_minor": 0,
              "model_id": "693b3b5734054ec29145070015ce277a"
            }
          },
          "metadata": {}
        },
        {
          "name": "stderr",
          "text": "Some weights of ViTForImageClassification were not initialized from the model checkpoint at google/vit-base-patch16-224 and are newly initialized because the shapes did not match:\n- classifier.bias: found shape torch.Size([1000]) in the checkpoint and torch.Size([2]) in the model instantiated\n- classifier.weight: found shape torch.Size([1000, 768]) in the checkpoint and torch.Size([2, 768]) in the model instantiated\nYou should probably TRAIN this model on a down-stream task to be able to use it for predictions and inference.\n",
          "output_type": "stream"
        },
        {
          "output_type": "display_data",
          "data": {
            "text/plain": "preprocessor_config.json:   0%|          | 0.00/160 [00:00<?, ?B/s]",
            "application/vnd.jupyter.widget-view+json": {
              "version_major": 2,
              "version_minor": 0,
              "model_id": "2c26785891bd4c7bbe2ef2cad7cce070"
            }
          },
          "metadata": {}
        },
        {
          "name": "stderr",
          "text": "/usr/local/lib/python3.10/dist-packages/transformers/models/vit/feature_extraction_vit.py:28: FutureWarning: The class ViTFeatureExtractor is deprecated and will be removed in version 5 of Transformers. Please use ViTImageProcessor instead.\n  warnings.warn(\n",
          "output_type": "stream"
        }
      ],
      "execution_count": null
    },
    {
      "cell_type": "code",
      "source": [
        "def plot_metrics(train_losses, valid_losses, train_accuracies, valid_accuracies):\n",
        "    plt.figure(figsize=(12, 5))\n",
        "\n",
        "    # Loss\n",
        "    plt.subplot(1, 2, 1)\n",
        "    plt.plot(train_losses, label='Train Loss')\n",
        "    plt.plot(valid_losses, label='Valid Loss')\n",
        "    plt.xlabel('Epoch')\n",
        "    plt.ylabel('Loss')\n",
        "    plt.title('Loss over Epochs')\n",
        "    plt.legend()\n",
        "\n",
        "    # Accuracy\n",
        "    plt.subplot(1, 2, 2)\n",
        "    plt.plot(train_accuracies, label='Train Accuracy')\n",
        "    plt.plot(valid_accuracies, label='Valid Accuracy')\n",
        "    plt.xlabel('Epoch')\n",
        "    plt.ylabel('Accuracy')\n",
        "    plt.title('Accuracy over Epochs')\n",
        "    plt.legend()\n",
        "\n",
        "    plt.show()\n",
        "\n",
        "\n",
        "def plot_metrics(train_losses, valid_losses, train_accuracies, valid_accuracies):\n",
        "    plt.figure(figsize=(12, 5))\n",
        "\n",
        "    # Loss\n",
        "    plt.subplot(1, 2, 1)\n",
        "    plt.plot(train_losses, label='Train Loss')\n",
        "    plt.plot(valid_losses, label='Valid Loss')\n",
        "    plt.xlabel('Epoch')\n",
        "    plt.ylabel('Loss')\n",
        "    plt.title('Loss over Epochs')\n",
        "    plt.legend()\n",
        "\n",
        "    # Accuracy\n",
        "    plt.subplot(1, 2, 2)\n",
        "    plt.plot(train_accuracies, label='Train Accuracy')\n",
        "    plt.plot(valid_accuracies, label='Valid Accuracy')\n",
        "    plt.xlabel('Epoch')\n",
        "    plt.ylabel('Accuracy')\n",
        "    plt.title('Accuracy over Epochs')\n",
        "    plt.legend()\n",
        "\n",
        "    plt.show()\n",
        "\n",
        "def plot_roc_curve(all_labels, all_preds):\n",
        "    fpr, tpr, _ = roc_curve(all_labels, all_preds)\n",
        "    roc_auc = auc(fpr, tpr)\n",
        "\n",
        "    plt.figure()\n",
        "    plt.plot(fpr, tpr, color='darkorange', lw=2, label=f'ROC curve (area = {roc_auc:.2f})')\n",
        "    plt.plot([0, 1], [0, 1], color='navy', lw=2, linestyle='--')\n",
        "    plt.xlabel('False Positive Rate')\n",
        "    plt.ylabel('True Positive Rate')\n",
        "    plt.title('Receiver Operating Characteristic (ROC) Curve')\n",
        "    plt.legend(loc=\"lower right\")\n",
        "    plt.show()\n",
        "\n",
        "def plot_confusion_matrix(all_labels, all_preds):\n",
        "    cm = confusion_matrix(all_labels, all_preds)\n",
        "    plt.figure(figsize=(6, 6))\n",
        "    sns.heatmap(cm, annot=True, fmt='d', cmap='Blues', cbar=False)\n",
        "    plt.xlabel('Predicted')\n",
        "    plt.ylabel('True')\n",
        "    plt.title('Confusion Matrix')\n",
        "    plt.show()"
      ],
      "metadata": {
        "trusted": true,
        "execution": {
          "iopub.status.busy": "2025-02-18T03:11:25.166853Z",
          "iopub.execute_input": "2025-02-18T03:11:25.167224Z",
          "iopub.status.idle": "2025-02-18T03:11:25.177199Z",
          "shell.execute_reply.started": "2025-02-18T03:11:25.167169Z",
          "shell.execute_reply": "2025-02-18T03:11:25.176296Z"
        },
        "id": "eZF8im6G7Xfk"
      },
      "outputs": [],
      "execution_count": null
    },
    {
      "cell_type": "code",
      "source": [
        "# Entraînement et validation\n",
        "train_losses, valid_losses, train_accuracies, valid_accuracies, all_labels, all_preds = train_model(\n",
        "    model, train_loader, valid_loader, epochs=10, device='cuda'\n",
        ")"
      ],
      "metadata": {
        "trusted": true,
        "execution": {
          "iopub.status.busy": "2025-02-17T19:15:34.020585Z",
          "iopub.execute_input": "2025-02-17T19:15:34.020878Z",
          "iopub.status.idle": "2025-02-18T03:02:44.069151Z",
          "shell.execute_reply.started": "2025-02-17T19:15:34.020856Z",
          "shell.execute_reply": "2025-02-18T03:02:44.067976Z"
        },
        "id": "KG2XVnkn7Xfk",
        "outputId": "db135943-e773-436f-d0c1-638283ebb6f0"
      },
      "outputs": [
        {
          "name": "stderr",
          "text": "Epoch 1/10: 100%|██████████| 3125/3125 [48:46<00:00,  1.07it/s]\n",
          "output_type": "stream"
        },
        {
          "name": "stdout",
          "text": "Epoch 1/10, Train Loss: 0.0890, Train Accuracy: 0.9628, Valid Loss: 0.0378, Valid Accuracy: 0.9869, Valid ROC-AUC: 0.9869\n",
          "output_type": "stream"
        },
        {
          "name": "stderr",
          "text": "Epoch 2/10: 100%|██████████| 3125/3125 [40:17<00:00,  1.29it/s]\n",
          "output_type": "stream"
        },
        {
          "name": "stdout",
          "text": "Epoch 2/10, Train Loss: 0.0166, Train Accuracy: 0.9947, Valid Loss: 0.0214, Valid Accuracy: 0.9923, Valid ROC-AUC: 0.9923\n",
          "output_type": "stream"
        },
        {
          "name": "stderr",
          "text": "Epoch 3/10: 100%|██████████| 3125/3125 [40:14<00:00,  1.29it/s]\n",
          "output_type": "stream"
        },
        {
          "name": "stdout",
          "text": "Epoch 3/10, Train Loss: 0.0091, Train Accuracy: 0.9970, Valid Loss: 0.0226, Valid Accuracy: 0.9931, Valid ROC-AUC: 0.9931\n",
          "output_type": "stream"
        },
        {
          "name": "stderr",
          "text": "Epoch 4/10: 100%|██████████| 3125/3125 [40:16<00:00,  1.29it/s]\n",
          "output_type": "stream"
        },
        {
          "name": "stdout",
          "text": "Epoch 4/10, Train Loss: 0.0064, Train Accuracy: 0.9980, Valid Loss: 0.0242, Valid Accuracy: 0.9936, Valid ROC-AUC: 0.9935\n",
          "output_type": "stream"
        },
        {
          "name": "stderr",
          "text": "Epoch 5/10: 100%|██████████| 3125/3125 [40:13<00:00,  1.29it/s]\n",
          "output_type": "stream"
        },
        {
          "name": "stdout",
          "text": "Epoch 5/10, Train Loss: 0.0051, Train Accuracy: 0.9984, Valid Loss: 0.0201, Valid Accuracy: 0.9945, Valid ROC-AUC: 0.9945\n",
          "output_type": "stream"
        },
        {
          "name": "stderr",
          "text": "Epoch 6/10: 100%|██████████| 3125/3125 [40:20<00:00,  1.29it/s]\n",
          "output_type": "stream"
        },
        {
          "name": "stdout",
          "text": "Epoch 6/10, Train Loss: 0.0043, Train Accuracy: 0.9986, Valid Loss: 0.0227, Valid Accuracy: 0.9937, Valid ROC-AUC: 0.9937\n",
          "output_type": "stream"
        },
        {
          "name": "stderr",
          "text": "Epoch 7/10: 100%|██████████| 3125/3125 [40:15<00:00,  1.29it/s]\n",
          "output_type": "stream"
        },
        {
          "name": "stdout",
          "text": "Epoch 7/10, Train Loss: 0.0030, Train Accuracy: 0.9990, Valid Loss: 0.0196, Valid Accuracy: 0.9937, Valid ROC-AUC: 0.9936\n",
          "output_type": "stream"
        },
        {
          "name": "stderr",
          "text": "Epoch 8/10: 100%|██████████| 3125/3125 [40:41<00:00,  1.28it/s]\n",
          "output_type": "stream"
        },
        {
          "name": "stdout",
          "text": "Epoch 8/10, Train Loss: 0.0035, Train Accuracy: 0.9988, Valid Loss: 0.0223, Valid Accuracy: 0.9944, Valid ROC-AUC: 0.9944\n",
          "output_type": "stream"
        },
        {
          "name": "stderr",
          "text": "Epoch 9/10: 100%|██████████| 3125/3125 [40:19<00:00,  1.29it/s]\n",
          "output_type": "stream"
        },
        {
          "name": "stdout",
          "text": "Epoch 9/10, Train Loss: 0.0026, Train Accuracy: 0.9992, Valid Loss: 0.0213, Valid Accuracy: 0.9936, Valid ROC-AUC: 0.9935\n",
          "output_type": "stream"
        },
        {
          "name": "stderr",
          "text": "Epoch 10/10: 100%|██████████| 3125/3125 [40:18<00:00,  1.29it/s]\n",
          "output_type": "stream"
        },
        {
          "name": "stdout",
          "text": "Epoch 10/10, Train Loss: 0.0026, Train Accuracy: 0.9992, Valid Loss: 0.0241, Valid Accuracy: 0.9931, Valid ROC-AUC: 0.9931\n",
          "output_type": "stream"
        }
      ],
      "execution_count": null
    },
    {
      "cell_type": "code",
      "source": [
        "from sklearn.metrics import auc  # Réimporter correctement la fonction\n",
        "\n",
        "# Tracer les courbes de loss et d'accuracy\n",
        "plot_metrics(train_losses, valid_losses, train_accuracies, valid_accuracies)\n",
        "\n",
        "# Tracer la courbe ROC-AUC\n",
        "plot_roc_curve(all_labels, all_preds)\n",
        "\n",
        "# Afficher la matrice de confusion\n",
        "plot_confusion_matrix(all_labels, all_preds)"
      ],
      "metadata": {
        "trusted": true,
        "execution": {
          "iopub.status.busy": "2025-02-18T03:12:29.814036Z",
          "iopub.execute_input": "2025-02-18T03:12:29.814355Z",
          "iopub.status.idle": "2025-02-18T03:12:30.50182Z",
          "shell.execute_reply.started": "2025-02-18T03:12:29.81433Z",
          "shell.execute_reply": "2025-02-18T03:12:30.500681Z"
        },
        "id": "RUgM1TNe7Xfk",
        "outputId": "5184c0aa-1761-4996-91c6-e972e585e116"
      },
      "outputs": [
        {
          "output_type": "display_data",
          "data": {
            "text/plain": "<Figure size 1200x500 with 2 Axes>",
            "image/png": "[encoded data removed]"
          },
          "metadata": {}
        },
        {
          "output_type": "display_data",
          "data": {
            "text/plain": "<Figure size 640x480 with 1 Axes>",
            "image/png": "[encoded data removed]"
          },
          "metadata": {}
        },
        {
          "output_type": "display_data",
          "data": {
            "text/plain": "<Figure size 600x600 with 1 Axes>",
            "image/png": "[encoded data removed]"
          },
          "metadata": {}
        }
      ],
      "execution_count": null
    },
    {
      "cell_type": "code",
      "source": [
        "import torch\n",
        "import numpy as np\n",
        "from torchmetrics import CohenKappa\n",
        "from sklearn.metrics import (\n",
        "    accuracy_score,\n",
        "    roc_auc_score,\n",
        "    matthews_corrcoef,\n",
        "    f1_score,\n",
        "    confusion_matrix,\n",
        "    cohen_kappa_score,\n",
        "    log_loss,\n",
        "    recall_score,\n",
        "    precision_score,\n",
        ")\n",
        "\n",
        "device = torch.device(\"cuda\" if torch.cuda.is_available() else \"cpu\")\n",
        "# Mettre le modèle en mode évaluation\n",
        "model.eval()\n",
        "\n",
        "# Initialiser les listes pour stocker les prédictions et les étiquettes\n",
        "all_preds = []\n",
        "all_labels = []\n",
        "all_probs = []\n",
        "\n",
        "with torch.no_grad():\n",
        "    for images, labels in tqdm(test_loader):\n",
        "        # Déplacer les données sur le GPU\n",
        "        images, labels = images.to(device), labels.to(device)\n",
        "\n",
        "        # Obtenir les prédictions du modèle\n",
        "        outputs = model(images)  # Retourne directement les logits\n",
        "        probs = torch.softmax(outputs, dim=1)  # Appliquer softmax directement sur les logits\n",
        "        _, preds = torch.max(probs, 1)\n",
        "\n",
        "        # Stocker les prédictions, les étiquettes et les probabilités\n",
        "        all_preds.extend(preds.cpu().numpy())\n",
        "        all_labels.extend(labels.cpu().numpy())\n",
        "        all_probs.extend(probs.cpu().numpy())\n",
        "\n",
        "# Convertir en arrays numpy et calculer les métriques\n",
        "all_preds = np.array(all_preds)\n",
        "all_labels = np.array(all_labels)\n",
        "all_probs = np.array(all_probs)\n",
        "\n",
        "# Calculer et afficher les métriques\n",
        "accuracy = accuracy_score(all_labels, all_preds)\n",
        "auc = roc_auc_score(all_labels, all_probs[:, 1])\n",
        "mcc = matthews_corrcoef(all_labels, all_preds)\n",
        "f1 = f1_score(all_labels, all_preds)\n",
        "kappa = cohen_kappa_score(all_labels, all_preds)\n",
        "logloss = log_loss(all_labels, all_probs)\n",
        "recall = recall_score(all_labels, all_preds)\n",
        "precision = precision_score(all_labels, all_preds)\n",
        "\n",
        "tn, fp, fn, tp = confusion_matrix(all_labels, all_preds).ravel()\n",
        "specificity = tn / (tn + fp)\n",
        "\n",
        "print(f\"Accuracy: {accuracy:.4f}\")\n",
        "print(f\"AUC: {auc:.4f}\")\n",
        "print(f\"MCC: {mcc:.4f}\")\n",
        "print(f\"F1-score: {f1:.4f}\")\n",
        "print(f\"Specificity: {specificity:.4f}\")\n",
        "print(f\"Cohen's Kappa: {kappa:.4f}\")\n",
        "print(f\"Log Loss: {logloss:.4f}\")\n",
        "print(f\"Recall: {recall:.4f}\")\n",
        "print(f\"Precision: {precision:.4f}\")"
      ],
      "metadata": {
        "trusted": true,
        "execution": {
          "iopub.status.busy": "2025-02-18T03:02:44.07072Z",
          "iopub.execute_input": "2025-02-18T03:02:44.071023Z",
          "iopub.status.idle": "2025-02-18T03:10:15.644065Z",
          "shell.execute_reply.started": "2025-02-18T03:02:44.070998Z",
          "shell.execute_reply": "2025-02-18T03:10:15.642613Z"
        },
        "id": "vZQ63Z2T7Xfl",
        "outputId": "9a6b2595-b257-4024-8aac-1024ff0dcc09"
      },
      "outputs": [
        {
          "name": "stderr",
          "text": "100%|██████████| 625/625 [07:30<00:00,  1.39it/s]",
          "output_type": "stream"
        },
        {
          "name": "stdout",
          "text": "Accuracy: 0.9935\nAUC: 0.9998\nMCC: 0.9869\nF1-score: 0.9934\nSpecificity: 0.9975\nCohen's Kappa: 0.9869\nLog Loss: 0.0241\nRecall: 0.9894\nPrecision: 0.9975\n",
          "output_type": "stream"
        },
        {
          "name": "stderr",
          "text": "\n",
          "output_type": "stream"
        }
      ],
      "execution_count": null
    }
  ]
}